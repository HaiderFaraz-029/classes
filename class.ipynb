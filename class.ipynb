{
 "cells": [
  {
   "cell_type": "code",
   "execution_count": 7,
   "id": "fd4e31cd",
   "metadata": {},
   "outputs": [
    {
     "name": "stdout",
     "output_type": "stream",
     "text": [
      "bob\n"
     ]
    }
   ],
   "source": [
    "#Question 1\n",
    "# Create a class Person with attributes name, age, and city.\n",
    "class person:\n",
    "    def __init__ (self,name,age,city):\n",
    "        self.name=name\n",
    "        self.age=age\n",
    "        self.city=city \n",
    "    def say_my_name(self):\n",
    "        print(self.name)\n",
    "bro = person(\"bob\",99,\"karachi\")\n",
    "\n",
    "bro.say_my_name()"
   ]
  },
  {
   "cell_type": "code",
   "execution_count": 6,
   "id": "ddf064ea",
   "metadata": {},
   "outputs": [
    {
     "name": "stdout",
     "output_type": "stream",
     "text": [
      "911 turbo is produced by porsche in 2024\n"
     ]
    }
   ],
   "source": [
    "#Question 2 \n",
    "#Create a class Car with attributes make, model, and year.\n",
    "class car:\n",
    "    def __init__(self,make,model,year):\n",
    "        self.make=make\n",
    "        self.model=model\n",
    "        self.year=year\n",
    "    def info(self):\n",
    "        print(f\"{self.model} is produced by {self.make} in {self.year}\")\n",
    "porsche=car(\"porsche\",\"911 turbo\",2024)\n",
    "porsche.info()"
   ]
  },
  {
   "cell_type": "code",
   "execution_count": 18,
   "id": "10554f5a",
   "metadata": {},
   "outputs": [
    {
     "name": "stdout",
     "output_type": "stream",
     "text": [
      "50.272\n",
      "56.556\n"
     ]
    }
   ],
   "source": [
    "#question 3\n",
    "#Create a class Circle with attributes radius and methods to calculate area and circumference.\n",
    "class circle:\n",
    "    def __init__(self,radius):\n",
    "        self.radius=radius\n",
    "    def cal_area (self):\n",
    "        area=3.142*self.radius**2\n",
    "        print(area)\n",
    "    def cal_circumference(self):\n",
    "        circumference=2*3.142*self.radius\n",
    "        print(circumference)\n",
    "circle_1 = circle(4) \n",
    "circle_2 = circle(9)\n",
    "circle_1.cal_area()\n",
    "circle_2.cal_circumference()"
   ]
  },
  {
   "cell_type": "code",
   "execution_count": 21,
   "id": "2ab97f70",
   "metadata": {},
   "outputs": [
    {
     "name": "stdout",
     "output_type": "stream",
     "text": [
      "20\n",
      "18\n"
     ]
    }
   ],
   "source": [
    "#question 4\n",
    "#Create a class Rectangle with attributes length and width and methods to calculate area and perimeter.\n",
    "class rectangle:\n",
    "    def __init__(self,lenght,width):\n",
    "        self.lenght=lenght\n",
    "        self.width=width\n",
    "    def cal_area(self):\n",
    "        area = self.lenght*self.width\n",
    "        print(area)\n",
    "    def cal_perimeter(self):\n",
    "        perimeter =2*self.lenght+2*self.width\n",
    "        print(perimeter)\n",
    "rec = rectangle(4,5)\n",
    "rec.cal_area()\n",
    "rec.cal_perimeter()"
   ]
  },
  {
   "cell_type": "code",
   "execution_count": 7,
   "id": "be77a433",
   "metadata": {
    "scrolled": true
   },
   "outputs": [
    {
     "name": "stdout",
     "output_type": "stream",
     "text": [
      "Average Marks: 76.66666666666667\n"
     ]
    }
   ],
   "source": [
    "#question 5\n",
    "#Create a class Student with attributes name, roll_number, and marks. Implement a method to calculate the average marks.\n",
    "class Students:\n",
    "    num = 0\n",
    "    total = 0\n",
    "    def __init__(self, name, roll_number, marks):\n",
    "        self.name = name\n",
    "        self.roll_number = roll_number\n",
    "        self.marks = marks\n",
    "        Students.num += 1\n",
    "        Students.total += marks\n",
    "    def average_marks():\n",
    "        if Students.num == 0:\n",
    "            return 0  # Avoid division by zero\n",
    "        return Students.total / Students.num\n",
    "stu_1 = Students(\"Bob\", 1, 60)\n",
    "stu_2 = Students(\"Dobby\", 2, 70)\n",
    "stu_3 = Students(\"Header\", 3, 100)\n",
    "print(f\"Average Marks: {Students.average_marks()}\")"
   ]
  },
  {
   "cell_type": "code",
   "execution_count": 15,
   "id": "80f5c1ed-0ac5-4224-bffd-b1819932b830",
   "metadata": {},
   "outputs": [
    {
     "name": "stdout",
     "output_type": "stream",
     "text": [
      "maths ki book is marvel of sir calculator first repoted in 1643\n"
     ]
    }
   ],
   "source": [
    "#question 6\n",
    "#Create a class Book with attributes title, author, and publication_year.\n",
    "class book:\n",
    "     def __init__(self, title, author, publication_year):\n",
    "        self.title = title\n",
    "        self.author = author \n",
    "        self.publication_year = publication_year\n",
    "     def call_book (self):\n",
    "        print(f\"{self.title} is marvel of {self.author} first repoted in {self.publication_year}\")\n",
    "book1 = book(\"maths ki book\",\"sir calculator\",1643)\n",
    "book1.call_book()"
   ]
  },
  {
   "cell_type": "code",
   "execution_count": 17,
   "id": "741572f7-93d3-4002-8138-06fd961ac0cb",
   "metadata": {},
   "outputs": [
    {
     "name": "stdout",
     "output_type": "stream",
     "text": [
      "bob get pays 100000000 because he is boss ka beta\n"
     ]
    }
   ],
   "source": [
    "#question 7\n",
    "#Create a class Employee with attributes name, salary, and designation.\n",
    "class employee:\n",
    "    def __init__(self,name,salary,designation):\n",
    "        self.name=name\n",
    "        self.salary=salary\n",
    "        self.designation=designation\n",
    "    def fav_bro (self):\n",
    "        print(f\"{self.name} get pays {self.salary} because he is {self.designation}\")\n",
    "bro = employee(\"bob\",100000000 , \"boss ka beta\")\n",
    "bro.fav_bro()"
   ]
  },
  {
   "cell_type": "code",
   "execution_count": 20,
   "id": "f44ebd7d-cc2b-4897-96c3-53a6d8dfe9ee",
   "metadata": {},
   "outputs": [
    {
     "ename": "NameError",
     "evalue": "name 'account' is not defined",
     "output_type": "error",
     "traceback": [
      "\u001b[1;31m---------------------------------------------------------------------------\u001b[0m",
      "\u001b[1;31mNameError\u001b[0m                                 Traceback (most recent call last)",
      "Cell \u001b[1;32mIn[20], line 13\u001b[0m\n\u001b[0;32m     11\u001b[0m     \u001b[38;5;28;01mdef\u001b[39;00m \u001b[38;5;21mwithdraw\u001b[39m(\u001b[38;5;28mself\u001b[39m,amount):\n\u001b[0;32m     12\u001b[0m         \u001b[38;5;28mself\u001b[39m\u001b[38;5;241m.\u001b[39mbalance \u001b[38;5;241m+\u001b[39m\u001b[38;5;241m=\u001b[39m amount\n\u001b[1;32m---> 13\u001b[0m account(\u001b[38;5;124m\"\u001b[39m\u001b[38;5;124mhaider\u001b[39m\u001b[38;5;124m\"\u001b[39m,\u001b[38;5;124m\"\u001b[39m\u001b[38;5;124m123456789\u001b[39m\u001b[38;5;124m\"\u001b[39m,\u001b[38;5;241m100000\u001b[39m)\n\u001b[0;32m     14\u001b[0m account\u001b[38;5;241m.\u001b[39mdeposit(\u001b[38;5;241m5000\u001b[39m)\n\u001b[0;32m     15\u001b[0m account\u001b[38;5;241m.\u001b[39mwithdraw(\u001b[38;5;241m10000\u001b[39m)\n",
      "\u001b[1;31mNameError\u001b[0m: name 'account' is not defined"
     ]
    }
   ],
   "source": [
    "#question 8\n",
    "# Create a class Bank with attributes name, account_number, and balance. Implement methods to deposit and withdraw money.\n",
    "class bank:\n",
    "    def __init__(name,account_number,balance):\n",
    "        self.name = name\n",
    "        self.account_number = account_number\n",
    "        self.balance = balance\n",
    "    def deposit(self,amount):\n",
    "        self.balance += amount\n",
    "        print(f\"{self.balance}is your new balance\")\n",
    "    def withdraw(self,amount):\n",
    "        self.balance += amount\n",
    "account= bank(\"haider\",\"123456789\",100000)\n",
    "account.deposit(5000)\n",
    "account.withdraw(10000)"
   ]
  },
  {
   "cell_type": "code",
   "execution_count": null,
   "id": "e7708ece-7e44-4eba-973f-c7d8911ed426",
   "metadata": {},
   "outputs": [],
   "source": []
  }
 ],
 "metadata": {
  "kernelspec": {
   "display_name": "Python 3 (ipykernel)",
   "language": "python",
   "name": "python3"
  },
  "language_info": {
   "codemirror_mode": {
    "name": "ipython",
    "version": 3
   },
   "file_extension": ".py",
   "mimetype": "text/x-python",
   "name": "python",
   "nbconvert_exporter": "python",
   "pygments_lexer": "ipython3",
   "version": "3.12.4"
  }
 },
 "nbformat": 4,
 "nbformat_minor": 5
}
